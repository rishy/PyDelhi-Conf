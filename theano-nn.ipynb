{
 "cells": [
  {
   "cell_type": "markdown",
   "metadata": {},
   "source": [
    "### A single hidden layer Neural Network with Theano\n",
    "----\n",
    "\n",
    "#### Requirements:\n",
    "1. Anaconda\n",
    "2. theano"
   ]
  },
  {
   "cell_type": "code",
   "execution_count": 312,
   "metadata": {
    "collapsed": false
   },
   "outputs": [],
   "source": [
    "import numpy as np\n",
    "import pandas as pd\n",
    "import theano\n",
    "import theano.tensor as T\n",
    "from sklearn import datasets\n",
    "from sklearn.cross_validation import train_test_split\n",
    "from ggplot import *\n",
    "import matplotlib.pyplot as plt"
   ]
  },
  {
   "cell_type": "markdown",
   "metadata": {},
   "source": [
    "#### Load the iris dataset and create training and testing sets:"
   ]
  },
  {
   "cell_type": "code",
   "execution_count": 313,
   "metadata": {
    "collapsed": true
   },
   "outputs": [],
   "source": [
    "iris = datasets.load_iris()\n",
    "data = iris.data\n",
    "target = iris.target"
   ]
  },
  {
   "cell_type": "code",
   "execution_count": 314,
   "metadata": {
    "collapsed": true
   },
   "outputs": [],
   "source": [
    "# Convert labels into one-hot vectors\n",
    "num_labels = len(np.unique(target))\n",
    "labels = np.eye(num_labels)[target]"
   ]
  },
  {
   "cell_type": "code",
   "execution_count": 315,
   "metadata": {
    "collapsed": true
   },
   "outputs": [],
   "source": [
    "# We are keeping 20% of data samples as test set\n",
    "train_X, test_X, train_y, test_y = train_test_split(data, labels, test_size = 0.20)"
   ]
  },
  {
   "cell_type": "markdown",
   "metadata": {},
   "source": [
    "#### Neural Network constants and hyperparameters:"
   ]
  },
  {
   "cell_type": "code",
   "execution_count": 316,
   "metadata": {
    "collapsed": true
   },
   "outputs": [],
   "source": [
    "x_size = train_X[0].shape[0] # size of input layer - \"4\"\n",
    "h_size = 100 # size of hidden layers(100 nodes)\n",
    "y_size = train_y[0].shape[0] # size of output layer - \"3\"\n",
    "\n",
    "alpha = 0.01 # Learning rate"
   ]
  },
  {
   "cell_type": "markdown",
   "metadata": {},
   "source": [
    "#### Symbolic Expressions for Theano neural network:"
   ]
  },
  {
   "cell_type": "code",
   "execution_count": 331,
   "metadata": {
    "collapsed": false
   },
   "outputs": [],
   "source": [
    "# Floating type symbolic expression for training features\n",
    "X = T.fmatrix(name=\"X\")\n",
    "\n",
    "# Floating type symbolic expression for training targets\n",
    "y = T.fmatrix(name=\"y\")\n",
    "\n",
    "W1_rand = 1/float(np.sqrt(x_size)) # Initialization limit for W1\n",
    "\n",
    "W2_rand = 1/float(np.sqrt(h_size)) # Initialization limit for W2"
   ]
  },
  {
   "cell_type": "code",
   "execution_count": 332,
   "metadata": {
    "collapsed": true
   },
   "outputs": [],
   "source": [
    "# Theano Shared variables for neural network parameters \n",
    "\n",
    "# Weight for connections between input and hidden layer\n",
    "W1 = theano.shared(np.random.uniform(low = -W1_rand, high = W1_rand, size = (x_size, h_size)), name = \"W1\")\n",
    "\n",
    "# Bias weights for hidden layer\n",
    "b1 = theano.shared(np.zeros(h_size), name='b1')\n",
    "\n",
    "# Weight for connections between input and hidden layer\n",
    "W2 = theano.shared(np.random.uniform(low = -W2_rand, high = W2_rand, size = (h_size, y_size)), name = \"W2\")\n",
    "\n",
    "b2 = theano.shared(np.zeros(y_size), name='b2')"
   ]
  },
  {
   "cell_type": "code",
   "execution_count": 333,
   "metadata": {
    "collapsed": true
   },
   "outputs": [],
   "source": [
    "# Forward Propagation\n",
    "z1 = T.dot(X, W1) + b1\n",
    "a1 = T.nnet.sigmoid(z1)\n",
    "z2 = T.dot(a1, W2) + b2\n",
    "y_hat = T.nnet.softmax(z2)"
   ]
  },
  {
   "cell_type": "code",
   "execution_count": 334,
   "metadata": {
    "collapsed": false
   },
   "outputs": [],
   "source": [
    "# the loss function we want to optimize\n",
    "loss = T.nnet.categorical_crossentropy(y_hat, y).mean()\n",
    "\n",
    "# Returns a target prediction\n",
    "prediction = T.argmax(y_hat, axis=1)"
   ]
  },
  {
   "cell_type": "code",
   "execution_count": 335,
   "metadata": {
    "collapsed": false
   },
   "outputs": [],
   "source": [
    "# Theano functions that can be called from our Python code\n",
    "forward_prop = theano.function([X], y_hat)\n",
    "calculate_loss = theano.function([X, y], loss)\n",
    "predict = theano.function([X], prediction)"
   ]
  },
  {
   "cell_type": "code",
   "execution_count": 336,
   "metadata": {
    "collapsed": true
   },
   "outputs": [],
   "source": [
    "# Defines automatic differentiation of all weight w.r.t loss\n",
    "dW2 = T.grad(loss, W2)\n",
    "db2 = T.grad(loss, b2)\n",
    "dW1 = T.grad(loss, W1)\n",
    "db1 = T.grad(loss, b1)\n",
    "\n",
    "# Gradient step\n",
    "gradient_step = theano.function(\n",
    "    [X, y],\n",
    "    updates=((W2, W2 - alpha * dW2),\n",
    "             (W1, W1 - alpha * dW1),\n",
    "             (b2, b2 - alpha * db2),\n",
    "             (b1, b1 - alpha * db1)))"
   ]
  },
  {
   "cell_type": "code",
   "execution_count": 337,
   "metadata": {
    "collapsed": false
   },
   "outputs": [
    {
     "name": "stdout",
     "output_type": "stream",
     "text": [
      "Epoch - 0  |\t Loss:  1.15535694829  |\t Accuracy:  0.233333333333\n",
      "Epoch - 1  |\t Loss:  1.14351703612  |\t Accuracy:  0.233333333333\n",
      "Epoch - 2  |\t Loss:  1.13422132912  |\t Accuracy:  0.233333333333\n",
      "Epoch - 3  |\t Loss:  1.12680702635  |\t Accuracy:  0.233333333333\n",
      "Epoch - 4  |\t Loss:  1.12078411937  |\t Accuracy:  0.233333333333\n",
      "Epoch - 5  |\t Loss:  1.11579137464  |\t Accuracy:  0.233333333333\n",
      "Epoch - 6  |\t Loss:  1.11156271121  |\t Accuracy:  0.233333333333\n",
      "Epoch - 7  |\t Loss:  1.10790205616  |\t Accuracy:  0.233333333333\n",
      "Epoch - 8  |\t Loss:  1.10466476211  |\t Accuracy:  0.233333333333\n",
      "Epoch - 9  |\t Loss:  1.10174395858  |\t Accuracy:  0.233333333333\n",
      "Epoch - 10  |\t Loss:  1.09906055378  |\t Accuracy:  0.233333333333\n",
      "Epoch - 20  |\t Loss:  1.07751141063  |\t Accuracy:  0.233333333333\n",
      "Epoch - 30  |\t Loss:  1.05847526935  |\t Accuracy:  0.233333333333\n",
      "Epoch - 40  |\t Loss:  1.04019962897  |\t Accuracy:  0.433333333333\n",
      "Epoch - 50  |\t Loss:  1.02253643284  |\t Accuracy:  0.6\n",
      "Epoch - 60  |\t Loss:  1.00543480698  |\t Accuracy:  0.6\n",
      "Epoch - 70  |\t Loss:  0.988855457988  |\t Accuracy:  0.6\n",
      "Epoch - 80  |\t Loss:  0.972764993186  |\t Accuracy:  0.6\n",
      "Epoch - 90  |\t Loss:  0.957134942565  |\t Accuracy:  0.6\n",
      "Epoch - 100  |\t Loss:  0.941941120263  |\t Accuracy:  0.666666666667\n",
      "Epoch - 110  |\t Loss:  0.927163056575  |\t Accuracy:  0.666666666667\n",
      "Epoch - 120  |\t Loss:  0.91278347855  |\t Accuracy:  0.7\n",
      "Epoch - 130  |\t Loss:  0.898787834592  |\t Accuracy:  0.7\n",
      "Epoch - 140  |\t Loss:  0.885163860626  |\t Accuracy:  0.8\n",
      "Epoch - 150  |\t Loss:  0.871901186087  |\t Accuracy:  0.866666666667\n",
      "Epoch - 160  |\t Loss:  0.858990978321  |\t Accuracy:  0.933333333333\n",
      "Epoch - 170  |\t Loss:  0.84642562425  |\t Accuracy:  1.0\n",
      "Epoch - 180  |\t Loss:  0.834198448134  |\t Accuracy:  1.0\n",
      "Epoch - 190  |\t Loss:  0.822303464272  |\t Accuracy:  1.0\n",
      "Epoch - 200  |\t Loss:  0.810735163306  |\t Accuracy:  1.0\n",
      "Epoch - 210  |\t Loss:  0.799488330598  |\t Accuracy:  1.0\n",
      "Epoch - 220  |\t Loss:  0.788557894942  |\t Accuracy:  1.0\n",
      "Epoch - 230  |\t Loss:  0.77793880561  |\t Accuracy:  1.0\n",
      "Epoch - 240  |\t Loss:  0.767625935586  |\t Accuracy:  1.0\n",
      "Epoch - 250  |\t Loss:  0.757614008621  |\t Accuracy:  1.0\n",
      "Epoch - 260  |\t Loss:  0.747897547668  |\t Accuracy:  1.0\n",
      "Epoch - 270  |\t Loss:  0.738470842175  |\t Accuracy:  1.0\n",
      "Epoch - 280  |\t Loss:  0.729327931696  |\t Accuracy:  1.0\n",
      "Epoch - 290  |\t Loss:  0.720462603344  |\t Accuracy:  1.0\n"
     ]
    }
   ],
   "source": [
    "epochs = 300\n",
    "\n",
    "for epoch in np.arange(epochs):\n",
    "    \n",
    "    # One gradient step with complete training set\n",
    "    gradient_step(np.array(train_X, 'float32'), np.array(train_y, 'float32'))\n",
    "    \n",
    "    if epoch % 10 == 0 or epoch < 10:\n",
    "        \n",
    "        # Get the loss\n",
    "        current_loss = calculate_loss(np.array(train_X, 'float32'), np.array(train_y, 'float32'))\n",
    "        \n",
    "        # Get the accuracy between predicted and real target values\n",
    "        accuracy = np.mean(np.argmax(test_y, axis=1) == predict(np.array(test_X, 'float32')))\n",
    "        \n",
    "        print \"Epoch -\", epoch, \" |\\t Loss: \", current_loss, \" |\\t Accuracy: \", accuracy\n",
    "       "
   ]
  },
  {
   "cell_type": "code",
   "execution_count": null,
   "metadata": {
    "collapsed": true
   },
   "outputs": [],
   "source": []
  }
 ],
 "metadata": {
  "kernelspec": {
   "display_name": "Python 2",
   "language": "python",
   "name": "python2"
  },
  "language_info": {
   "codemirror_mode": {
    "name": "ipython",
    "version": 2
   },
   "file_extension": ".py",
   "mimetype": "text/x-python",
   "name": "python",
   "nbconvert_exporter": "python",
   "pygments_lexer": "ipython2",
   "version": "2.7.11"
  }
 },
 "nbformat": 4,
 "nbformat_minor": 0
}
